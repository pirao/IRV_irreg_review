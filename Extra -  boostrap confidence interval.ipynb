{
 "cells": [
  {
   "cell_type": "markdown",
   "metadata": {
    "tags": []
   },
   "source": [
    "# Importing packages"
   ]
  },
  {
   "cell_type": "code",
   "execution_count": 1,
   "metadata": {
    "ExecuteTime": {
     "end_time": "2021-08-24T17:40:24.204774Z",
     "start_time": "2021-08-24T17:40:07.120775Z"
    }
   },
   "outputs": [],
   "source": [
    "from utils.model_summary_functions import feature_importance, metrics, summary_plot,multivariate_importance"
   ]
  },
  {
   "cell_type": "code",
   "execution_count": 2,
   "metadata": {
    "ExecuteTime": {
     "end_time": "2021-08-24T17:40:24.347775Z",
     "start_time": "2021-08-24T17:40:24.206776Z"
    }
   },
   "outputs": [],
   "source": [
    "import pandas as pd\n",
    "import seaborn as sns\n",
    "import numpy as np\n",
    "import scipy as sp\n",
    "import matplotlib.pyplot as plt\n",
    "import pickle\n",
    "\n",
    "from sklearn.metrics import mean_squared_error, f1_score, accuracy_score, mean_absolute_error, r2_score\n",
    "from sklearn.model_selection import cross_val_score, train_test_split, KFold, StratifiedShuffleSplit, TimeSeriesSplit, RepeatedKFold\n",
    "from sklearn.preprocessing import StandardScaler, LabelEncoder, OneHotEncoder, RobustScaler\n",
    "from sklearn.ensemble import RandomForestRegressor, AdaBoostRegressor,GradientBoostingRegressor, ExtraTreesRegressor\n",
    "from sklearn.feature_selection import SelectKBest, f_regression, chi2\n",
    "from sklearn.linear_model import LassoLarsCV,LassoCV, Lasso\n",
    "from sklearn.decomposition import PCA\n",
    "\n",
    "from yellowbrick.model_selection import FeatureImportances\n",
    "from yellowbrick.regressor import residuals_plot\n",
    "from yellowbrick.regressor import prediction_error\n",
    "from yellowbrick.model_selection import learning_curve\n",
    "from yellowbrick.model_selection import feature_importances\n",
    "\n",
    "import tensorflow as tf"
   ]
  },
  {
   "cell_type": "code",
   "execution_count": 3,
   "metadata": {
    "ExecuteTime": {
     "end_time": "2021-08-24T17:40:24.708779Z",
     "start_time": "2021-08-24T17:40:24.355774Z"
    }
   },
   "outputs": [],
   "source": [
    "physical_devices = tf.config.list_physical_devices('GPU')\n",
    "tf.config.experimental.set_memory_growth(physical_devices[0], True)"
   ]
  },
  {
   "cell_type": "code",
   "execution_count": 4,
   "metadata": {
    "ExecuteTime": {
     "end_time": "2021-08-24T17:40:24.725776Z",
     "start_time": "2021-08-24T17:40:24.715778Z"
    }
   },
   "outputs": [],
   "source": [
    "import warnings  # Ignore alert messages\n",
    "warnings.filterwarnings('ignore')"
   ]
  },
  {
   "cell_type": "code",
   "execution_count": 5,
   "metadata": {
    "ExecuteTime": {
     "end_time": "2021-08-24T17:40:24.755774Z",
     "start_time": "2021-08-24T17:40:24.730776Z"
    }
   },
   "outputs": [],
   "source": [
    "plt.style.use('default')\n",
    "\n",
    "plt.rcParams.update({\n",
    "    'font.size': 16,\n",
    "    'axes.linewidth': 2,\n",
    "    'axes.titlesize': 20,\n",
    "    'axes.edgecolor': 'black',\n",
    "    'axes.labelsize': 20,\n",
    "    'axes.grid': True,\n",
    "    'lines.linewidth': 1.5,\n",
    "    'lines.markersize': 6,\n",
    "    'figure.figsize': (15, 6),\n",
    "    'xtick.labelsize': 14,\n",
    "    'ytick.labelsize': 14,\n",
    "    'font.family': 'Arial',\n",
    "    'legend.fontsize': 13,\n",
    "    'legend.framealpha': 1,\n",
    "    'legend.edgecolor': 'black',\n",
    "    'legend.shadow': False,\n",
    "    'legend.fancybox': True,\n",
    "    'legend.frameon': True,\n",
    "})"
   ]
  },
  {
   "cell_type": "markdown",
   "metadata": {},
   "source": [
    "# Importing dataset after EDA"
   ]
  },
  {
   "cell_type": "code",
   "execution_count": 6,
   "metadata": {
    "ExecuteTime": {
     "end_time": "2021-08-24T17:40:26.235774Z",
     "start_time": "2021-08-24T17:40:24.759775Z"
    }
   },
   "outputs": [
    {
     "data": {
      "text/html": [
       "<div>\n",
       "<style scoped>\n",
       "    .dataframe tbody tr th:only-of-type {\n",
       "        vertical-align: middle;\n",
       "    }\n",
       "\n",
       "    .dataframe tbody tr th {\n",
       "        vertical-align: top;\n",
       "    }\n",
       "\n",
       "    .dataframe thead th {\n",
       "        text-align: right;\n",
       "    }\n",
       "</style>\n",
       "<table border=\"1\" class=\"dataframe\">\n",
       "  <thead>\n",
       "    <tr style=\"text-align: right;\">\n",
       "      <th></th>\n",
       "      <th>Trail_right_z_sec_susp</th>\n",
       "      <th>Lead_left_z_sec_susp</th>\n",
       "      <th>Trail_left_z_sec_susp</th>\n",
       "      <th>Lead_right_z_sec_susp</th>\n",
       "      <th>Triaxial_x</th>\n",
       "      <th>Triaxial_z</th>\n",
       "      <th>Lead_z_accel_right_side</th>\n",
       "      <th>Susp_travel_left</th>\n",
       "      <th>Susp_travel_right</th>\n",
       "      <th>Pitch_accel</th>\n",
       "      <th>...</th>\n",
       "      <th>Triaxial_x_RMA_55 samples</th>\n",
       "      <th>Triaxial_x_MA_55 samples</th>\n",
       "      <th>Triaxial_x_RMS_55 samples</th>\n",
       "      <th>Triaxial_z_mean_55 samples</th>\n",
       "      <th>Susp_travel_mean_55 samples</th>\n",
       "      <th>Susp_travel_skew_55 samples</th>\n",
       "      <th>Pitch_left_susp_mean_55 samples</th>\n",
       "      <th>Bounce_susp_mean_55 samples</th>\n",
       "      <th>Front_Roll_susp_skew_55 samples</th>\n",
       "      <th>Vert_irreg_right_rail</th>\n",
       "    </tr>\n",
       "  </thead>\n",
       "  <tbody>\n",
       "    <tr>\n",
       "      <th>0</th>\n",
       "      <td>-0.034100</td>\n",
       "      <td>0.030900</td>\n",
       "      <td>0.021800</td>\n",
       "      <td>-0.0218</td>\n",
       "      <td>-0.000116</td>\n",
       "      <td>-0.000749</td>\n",
       "      <td>-0.001817</td>\n",
       "      <td>0.030900</td>\n",
       "      <td>-0.034100</td>\n",
       "      <td>-0.000459</td>\n",
       "      <td>...</td>\n",
       "      <td>0.008054</td>\n",
       "      <td>0.000065</td>\n",
       "      <td>0.000457</td>\n",
       "      <td>-0.000293</td>\n",
       "      <td>0.004538</td>\n",
       "      <td>-1.143003</td>\n",
       "      <td>0.000911</td>\n",
       "      <td>0.001606</td>\n",
       "      <td>0.941525</td>\n",
       "      <td>-0.0712</td>\n",
       "    </tr>\n",
       "    <tr>\n",
       "      <th>1</th>\n",
       "      <td>-0.035600</td>\n",
       "      <td>0.031600</td>\n",
       "      <td>0.022800</td>\n",
       "      <td>-0.0228</td>\n",
       "      <td>-0.000139</td>\n",
       "      <td>-0.000749</td>\n",
       "      <td>-0.001812</td>\n",
       "      <td>0.031600</td>\n",
       "      <td>-0.035600</td>\n",
       "      <td>-0.000542</td>\n",
       "      <td>...</td>\n",
       "      <td>0.008238</td>\n",
       "      <td>0.000068</td>\n",
       "      <td>0.000457</td>\n",
       "      <td>-0.000307</td>\n",
       "      <td>0.003883</td>\n",
       "      <td>-1.156428</td>\n",
       "      <td>0.000941</td>\n",
       "      <td>0.001485</td>\n",
       "      <td>0.893110</td>\n",
       "      <td>-0.0753</td>\n",
       "    </tr>\n",
       "    <tr>\n",
       "      <th>2</th>\n",
       "      <td>-0.036700</td>\n",
       "      <td>0.032000</td>\n",
       "      <td>0.023700</td>\n",
       "      <td>-0.0239</td>\n",
       "      <td>-0.000162</td>\n",
       "      <td>-0.000727</td>\n",
       "      <td>-0.001605</td>\n",
       "      <td>0.032000</td>\n",
       "      <td>-0.036700</td>\n",
       "      <td>-0.000613</td>\n",
       "      <td>...</td>\n",
       "      <td>0.008436</td>\n",
       "      <td>0.000071</td>\n",
       "      <td>0.000458</td>\n",
       "      <td>-0.000320</td>\n",
       "      <td>0.003208</td>\n",
       "      <td>-1.139831</td>\n",
       "      <td>0.000970</td>\n",
       "      <td>0.001362</td>\n",
       "      <td>0.843661</td>\n",
       "      <td>-0.0791</td>\n",
       "    </tr>\n",
       "    <tr>\n",
       "      <th>3</th>\n",
       "      <td>-0.037000</td>\n",
       "      <td>0.031400</td>\n",
       "      <td>0.024400</td>\n",
       "      <td>-0.0248</td>\n",
       "      <td>-0.000182</td>\n",
       "      <td>-0.000650</td>\n",
       "      <td>-0.000912</td>\n",
       "      <td>0.031400</td>\n",
       "      <td>-0.037000</td>\n",
       "      <td>-0.000654</td>\n",
       "      <td>...</td>\n",
       "      <td>0.008647</td>\n",
       "      <td>0.000075</td>\n",
       "      <td>0.000459</td>\n",
       "      <td>-0.000332</td>\n",
       "      <td>0.002527</td>\n",
       "      <td>-1.100159</td>\n",
       "      <td>0.000993</td>\n",
       "      <td>0.001242</td>\n",
       "      <td>0.787577</td>\n",
       "      <td>-0.0827</td>\n",
       "    </tr>\n",
       "    <tr>\n",
       "      <th>4</th>\n",
       "      <td>-0.037300</td>\n",
       "      <td>0.030900</td>\n",
       "      <td>0.025100</td>\n",
       "      <td>-0.0257</td>\n",
       "      <td>-0.000202</td>\n",
       "      <td>-0.000574</td>\n",
       "      <td>-0.000219</td>\n",
       "      <td>0.030900</td>\n",
       "      <td>-0.037300</td>\n",
       "      <td>-0.000695</td>\n",
       "      <td>...</td>\n",
       "      <td>0.008870</td>\n",
       "      <td>0.000079</td>\n",
       "      <td>0.000459</td>\n",
       "      <td>-0.000342</td>\n",
       "      <td>0.001840</td>\n",
       "      <td>-1.048016</td>\n",
       "      <td>0.001013</td>\n",
       "      <td>0.001125</td>\n",
       "      <td>0.728316</td>\n",
       "      <td>-0.0858</td>\n",
       "    </tr>\n",
       "    <tr>\n",
       "      <th>...</th>\n",
       "      <td>...</td>\n",
       "      <td>...</td>\n",
       "      <td>...</td>\n",
       "      <td>...</td>\n",
       "      <td>...</td>\n",
       "      <td>...</td>\n",
       "      <td>...</td>\n",
       "      <td>...</td>\n",
       "      <td>...</td>\n",
       "      <td>...</td>\n",
       "      <td>...</td>\n",
       "      <td>...</td>\n",
       "      <td>...</td>\n",
       "      <td>...</td>\n",
       "      <td>...</td>\n",
       "      <td>...</td>\n",
       "      <td>...</td>\n",
       "      <td>...</td>\n",
       "      <td>...</td>\n",
       "      <td>...</td>\n",
       "      <td>...</td>\n",
       "    </tr>\n",
       "    <tr>\n",
       "      <th>68096</th>\n",
       "      <td>-0.111903</td>\n",
       "      <td>-0.231038</td>\n",
       "      <td>0.133286</td>\n",
       "      <td>0.0503</td>\n",
       "      <td>0.001834</td>\n",
       "      <td>0.000079</td>\n",
       "      <td>0.004336</td>\n",
       "      <td>-0.231038</td>\n",
       "      <td>-0.111903</td>\n",
       "      <td>-0.003638</td>\n",
       "      <td>...</td>\n",
       "      <td>0.053665</td>\n",
       "      <td>0.002880</td>\n",
       "      <td>0.004202</td>\n",
       "      <td>-0.009225</td>\n",
       "      <td>-0.722654</td>\n",
       "      <td>-0.835219</td>\n",
       "      <td>-0.063069</td>\n",
       "      <td>-0.147773</td>\n",
       "      <td>-0.773285</td>\n",
       "      <td>0.0486</td>\n",
       "    </tr>\n",
       "    <tr>\n",
       "      <th>68097</th>\n",
       "      <td>-0.113222</td>\n",
       "      <td>-0.225703</td>\n",
       "      <td>0.140285</td>\n",
       "      <td>0.0422</td>\n",
       "      <td>0.001846</td>\n",
       "      <td>-0.000082</td>\n",
       "      <td>0.003567</td>\n",
       "      <td>-0.225703</td>\n",
       "      <td>-0.113222</td>\n",
       "      <td>-0.003363</td>\n",
       "      <td>...</td>\n",
       "      <td>0.053726</td>\n",
       "      <td>0.002887</td>\n",
       "      <td>0.004204</td>\n",
       "      <td>-0.008988</td>\n",
       "      <td>-0.693827</td>\n",
       "      <td>-0.847119</td>\n",
       "      <td>-0.063281</td>\n",
       "      <td>-0.143451</td>\n",
       "      <td>-0.788629</td>\n",
       "      <td>0.0511</td>\n",
       "    </tr>\n",
       "    <tr>\n",
       "      <th>68098</th>\n",
       "      <td>-0.114092</td>\n",
       "      <td>-0.220937</td>\n",
       "      <td>0.148758</td>\n",
       "      <td>0.0347</td>\n",
       "      <td>0.001823</td>\n",
       "      <td>-0.000321</td>\n",
       "      <td>0.002644</td>\n",
       "      <td>-0.220937</td>\n",
       "      <td>-0.114092</td>\n",
       "      <td>-0.003317</td>\n",
       "      <td>...</td>\n",
       "      <td>0.053553</td>\n",
       "      <td>0.002868</td>\n",
       "      <td>0.004196</td>\n",
       "      <td>-0.008838</td>\n",
       "      <td>-0.666117</td>\n",
       "      <td>-0.856692</td>\n",
       "      <td>-0.063529</td>\n",
       "      <td>-0.139384</td>\n",
       "      <td>-0.803025</td>\n",
       "      <td>0.0535</td>\n",
       "    </tr>\n",
       "    <tr>\n",
       "      <th>68099</th>\n",
       "      <td>-0.114961</td>\n",
       "      <td>-0.216170</td>\n",
       "      <td>0.157232</td>\n",
       "      <td>0.0272</td>\n",
       "      <td>0.001800</td>\n",
       "      <td>-0.000559</td>\n",
       "      <td>0.001721</td>\n",
       "      <td>-0.216170</td>\n",
       "      <td>-0.114961</td>\n",
       "      <td>-0.003272</td>\n",
       "      <td>...</td>\n",
       "      <td>0.053190</td>\n",
       "      <td>0.002829</td>\n",
       "      <td>0.004170</td>\n",
       "      <td>-0.008807</td>\n",
       "      <td>-0.639543</td>\n",
       "      <td>-0.864403</td>\n",
       "      <td>-0.063821</td>\n",
       "      <td>-0.135586</td>\n",
       "      <td>-0.816822</td>\n",
       "      <td>0.0558</td>\n",
       "    </tr>\n",
       "    <tr>\n",
       "      <th>68100</th>\n",
       "      <td>-0.115745</td>\n",
       "      <td>-0.211667</td>\n",
       "      <td>0.165799</td>\n",
       "      <td>0.0201</td>\n",
       "      <td>0.001763</td>\n",
       "      <td>-0.000803</td>\n",
       "      <td>0.000734</td>\n",
       "      <td>-0.211667</td>\n",
       "      <td>-0.115745</td>\n",
       "      <td>-0.002974</td>\n",
       "      <td>...</td>\n",
       "      <td>0.052703</td>\n",
       "      <td>0.002778</td>\n",
       "      <td>0.004127</td>\n",
       "      <td>-0.008880</td>\n",
       "      <td>-0.614127</td>\n",
       "      <td>-0.871210</td>\n",
       "      <td>-0.064169</td>\n",
       "      <td>-0.132076</td>\n",
       "      <td>-0.830542</td>\n",
       "      <td>0.0578</td>\n",
       "    </tr>\n",
       "  </tbody>\n",
       "</table>\n",
       "<p>68101 rows × 31 columns</p>\n",
       "</div>"
      ],
      "text/plain": [
       "       Trail_right_z_sec_susp  Lead_left_z_sec_susp  Trail_left_z_sec_susp  \\\n",
       "0                   -0.034100              0.030900               0.021800   \n",
       "1                   -0.035600              0.031600               0.022800   \n",
       "2                   -0.036700              0.032000               0.023700   \n",
       "3                   -0.037000              0.031400               0.024400   \n",
       "4                   -0.037300              0.030900               0.025100   \n",
       "...                       ...                   ...                    ...   \n",
       "68096               -0.111903             -0.231038               0.133286   \n",
       "68097               -0.113222             -0.225703               0.140285   \n",
       "68098               -0.114092             -0.220937               0.148758   \n",
       "68099               -0.114961             -0.216170               0.157232   \n",
       "68100               -0.115745             -0.211667               0.165799   \n",
       "\n",
       "       Lead_right_z_sec_susp  Triaxial_x  Triaxial_z  Lead_z_accel_right_side  \\\n",
       "0                    -0.0218   -0.000116   -0.000749                -0.001817   \n",
       "1                    -0.0228   -0.000139   -0.000749                -0.001812   \n",
       "2                    -0.0239   -0.000162   -0.000727                -0.001605   \n",
       "3                    -0.0248   -0.000182   -0.000650                -0.000912   \n",
       "4                    -0.0257   -0.000202   -0.000574                -0.000219   \n",
       "...                      ...         ...         ...                      ...   \n",
       "68096                 0.0503    0.001834    0.000079                 0.004336   \n",
       "68097                 0.0422    0.001846   -0.000082                 0.003567   \n",
       "68098                 0.0347    0.001823   -0.000321                 0.002644   \n",
       "68099                 0.0272    0.001800   -0.000559                 0.001721   \n",
       "68100                 0.0201    0.001763   -0.000803                 0.000734   \n",
       "\n",
       "       Susp_travel_left  Susp_travel_right  Pitch_accel  ...  \\\n",
       "0              0.030900          -0.034100    -0.000459  ...   \n",
       "1              0.031600          -0.035600    -0.000542  ...   \n",
       "2              0.032000          -0.036700    -0.000613  ...   \n",
       "3              0.031400          -0.037000    -0.000654  ...   \n",
       "4              0.030900          -0.037300    -0.000695  ...   \n",
       "...                 ...                ...          ...  ...   \n",
       "68096         -0.231038          -0.111903    -0.003638  ...   \n",
       "68097         -0.225703          -0.113222    -0.003363  ...   \n",
       "68098         -0.220937          -0.114092    -0.003317  ...   \n",
       "68099         -0.216170          -0.114961    -0.003272  ...   \n",
       "68100         -0.211667          -0.115745    -0.002974  ...   \n",
       "\n",
       "       Triaxial_x_RMA_55 samples  Triaxial_x_MA_55 samples  \\\n",
       "0                       0.008054                  0.000065   \n",
       "1                       0.008238                  0.000068   \n",
       "2                       0.008436                  0.000071   \n",
       "3                       0.008647                  0.000075   \n",
       "4                       0.008870                  0.000079   \n",
       "...                          ...                       ...   \n",
       "68096                   0.053665                  0.002880   \n",
       "68097                   0.053726                  0.002887   \n",
       "68098                   0.053553                  0.002868   \n",
       "68099                   0.053190                  0.002829   \n",
       "68100                   0.052703                  0.002778   \n",
       "\n",
       "       Triaxial_x_RMS_55 samples  Triaxial_z_mean_55 samples  \\\n",
       "0                       0.000457                   -0.000293   \n",
       "1                       0.000457                   -0.000307   \n",
       "2                       0.000458                   -0.000320   \n",
       "3                       0.000459                   -0.000332   \n",
       "4                       0.000459                   -0.000342   \n",
       "...                          ...                         ...   \n",
       "68096                   0.004202                   -0.009225   \n",
       "68097                   0.004204                   -0.008988   \n",
       "68098                   0.004196                   -0.008838   \n",
       "68099                   0.004170                   -0.008807   \n",
       "68100                   0.004127                   -0.008880   \n",
       "\n",
       "       Susp_travel_mean_55 samples  Susp_travel_skew_55 samples  \\\n",
       "0                         0.004538                    -1.143003   \n",
       "1                         0.003883                    -1.156428   \n",
       "2                         0.003208                    -1.139831   \n",
       "3                         0.002527                    -1.100159   \n",
       "4                         0.001840                    -1.048016   \n",
       "...                            ...                          ...   \n",
       "68096                    -0.722654                    -0.835219   \n",
       "68097                    -0.693827                    -0.847119   \n",
       "68098                    -0.666117                    -0.856692   \n",
       "68099                    -0.639543                    -0.864403   \n",
       "68100                    -0.614127                    -0.871210   \n",
       "\n",
       "       Pitch_left_susp_mean_55 samples  Bounce_susp_mean_55 samples  \\\n",
       "0                             0.000911                     0.001606   \n",
       "1                             0.000941                     0.001485   \n",
       "2                             0.000970                     0.001362   \n",
       "3                             0.000993                     0.001242   \n",
       "4                             0.001013                     0.001125   \n",
       "...                                ...                          ...   \n",
       "68096                        -0.063069                    -0.147773   \n",
       "68097                        -0.063281                    -0.143451   \n",
       "68098                        -0.063529                    -0.139384   \n",
       "68099                        -0.063821                    -0.135586   \n",
       "68100                        -0.064169                    -0.132076   \n",
       "\n",
       "       Front_Roll_susp_skew_55 samples  Vert_irreg_right_rail  \n",
       "0                             0.941525                -0.0712  \n",
       "1                             0.893110                -0.0753  \n",
       "2                             0.843661                -0.0791  \n",
       "3                             0.787577                -0.0827  \n",
       "4                             0.728316                -0.0858  \n",
       "...                                ...                    ...  \n",
       "68096                        -0.773285                 0.0486  \n",
       "68097                        -0.788629                 0.0511  \n",
       "68098                        -0.803025                 0.0535  \n",
       "68099                        -0.816822                 0.0558  \n",
       "68100                        -0.830542                 0.0578  \n",
       "\n",
       "[68101 rows x 31 columns]"
      ]
     },
     "execution_count": 6,
     "metadata": {},
     "output_type": "execute_result"
    }
   ],
   "source": [
    "df = pd.read_csv(\"Processed_data/FRA3-FRA6_cleaned_feature_engineered.csv.zip\")\n",
    "df"
   ]
  },
  {
   "cell_type": "code",
   "execution_count": 7,
   "metadata": {
    "ExecuteTime": {
     "end_time": "2021-08-24T17:40:26.251774Z",
     "start_time": "2021-08-24T17:40:26.237775Z"
    }
   },
   "outputs": [],
   "source": [
    "df_aux = df.copy()"
   ]
  },
  {
   "cell_type": "code",
   "execution_count": 8,
   "metadata": {
    "ExecuteTime": {
     "end_time": "2021-08-24T17:40:26.267774Z",
     "start_time": "2021-08-24T17:40:26.255774Z"
    }
   },
   "outputs": [],
   "source": [
    "def create_scaled_dataset(X,y,shuffle=False):\n",
    "    X_train, X_test, y_train, y_test = train_test_split(X, y,test_size=0.3,random_state=0,shuffle=shuffle) #Shuffle was set to false to allow correct plotting of the PSD\n",
    "\n",
    "    std_scaler = StandardScaler()\n",
    "    X_scaled_train = pd.DataFrame(std_scaler.fit_transform(X_train),columns=X_train.columns,index=X_train.index)\n",
    "    X_scaled_test = pd.DataFrame(std_scaler.transform(X_test),columns=X_train.columns,index=X_test.index)\n",
    "    return X_scaled_train,X_scaled_test, y_train,y_test"
   ]
  },
  {
   "cell_type": "code",
   "execution_count": 9,
   "metadata": {
    "ExecuteTime": {
     "end_time": "2021-08-24T17:40:26.409775Z",
     "start_time": "2021-08-24T17:40:26.270774Z"
    }
   },
   "outputs": [],
   "source": [
    "y = df_aux['Vert_irreg_right_rail']\n",
    "X = df_aux.drop(['Vert_irreg_right_rail'],axis=1)\n",
    "\n",
    "X_scaled_train2,X_scaled_test2,y_train2,y_test2 = create_scaled_dataset(X,y)"
   ]
  },
  {
   "cell_type": "markdown",
   "metadata": {},
   "source": [
    "# Loading models"
   ]
  },
  {
   "cell_type": "code",
   "execution_count": 10,
   "metadata": {
    "ExecuteTime": {
     "end_time": "2021-08-24T17:40:26.425774Z",
     "start_time": "2021-08-24T17:40:26.414775Z"
    }
   },
   "outputs": [],
   "source": [
    "def load_model(name, path):\n",
    "    import pickle\n",
    "    filename = path + '/' + name\n",
    "    loaded_model = pickle.load(open(filename, 'rb'))\n",
    "    return loaded_model"
   ]
  },
  {
   "cell_type": "code",
   "execution_count": 12,
   "metadata": {
    "ExecuteTime": {
     "end_time": "2021-08-24T17:41:20.061710Z",
     "start_time": "2021-08-24T17:41:14.780710Z"
    }
   },
   "outputs": [],
   "source": [
    "#path = 'models/ml_models'\n",
    "#knn = load_model('KNN_Regressor.sav',path=path)\n",
    "\n",
    "knn = tf.keras.models.load_model(\"models/NN/Vanilla_NN\")"
   ]
  },
  {
   "cell_type": "code",
   "execution_count": 15,
   "metadata": {
    "ExecuteTime": {
     "end_time": "2021-08-24T17:41:36.497709Z",
     "start_time": "2021-08-24T17:41:34.906710Z"
    }
   },
   "outputs": [],
   "source": [
    "yhat = knn.predict(X_scaled_test2)"
   ]
  },
  {
   "cell_type": "code",
   "execution_count": 16,
   "metadata": {
    "ExecuteTime": {
     "end_time": "2021-08-24T17:41:37.255710Z",
     "start_time": "2021-08-24T17:41:37.241710Z"
    }
   },
   "outputs": [
    {
     "name": "stdout",
     "output_type": "stream",
     "text": [
      "MSE:0.40499918028143816 \n",
      "MAE:0.4556203196011942 \n",
      "R2:0.9865518661168124\n"
     ]
    }
   ],
   "source": [
    "metrics(y_test2,yhat)"
   ]
  },
  {
   "cell_type": "markdown",
   "metadata": {},
   "source": [
    "# Bootstrap confidence intervals"
   ]
  },
  {
   "cell_type": "markdown",
   "metadata": {},
   "source": [
    "Bootstrapping is used to infer population results from averaged statistical measures calculated on multiple bags of random samples with replacement. It can be used to infer population results of machine learning models trained on random samples with replacement. \n",
    "\n",
    "When a machine learning model is built using bootstrapped data, the model is trained on the bootstrapped data and then tested on the out of bag (OOB) data. The OOB is the portion of the original population that has never been selected in any of the random samples. Because the model has not seen this data before, the model’s quality can be accurately assessed by testing it. If the model performs well on this OOB test data, that indicates that it should also perform similarly well on new data that it's later exposed to. \n",
    "\n",
    "For this section, we will bootstrap 1,000 times in order to obtain a high level of reliability in our statistics.\n",
    "\n",
    "This section was created based on the references:\n",
    "- https://machinelearningmastery.com/a-gentle-introduction-to-the-bootstrap-method/\n",
    "- https://machinelearningmastery.com/calculate-bootstrap-confidence-intervals-machine-learning-results-python/"
   ]
  },
  {
   "cell_type": "code",
   "execution_count": null,
   "metadata": {
    "ExecuteTime": {
     "end_time": "2021-08-24T17:40:28.682775Z",
     "start_time": "2021-08-24T17:40:07.748Z"
    }
   },
   "outputs": [],
   "source": [
    "from sklearn.utils import resample\n",
    "from tqdm import tqdm\n",
    "\n",
    "from sklearn.neighbors import KNeighborsRegressor"
   ]
  },
  {
   "cell_type": "code",
   "execution_count": null,
   "metadata": {
    "ExecuteTime": {
     "end_time": "2021-08-24T17:40:28.684775Z",
     "start_time": "2021-08-24T17:40:07.752Z"
    }
   },
   "outputs": [],
   "source": [
    "X_train, X_test, y_train, y_test = create_scaled_dataset(X, y,shuffle=True)\n",
    "\n",
    "df_train = pd.concat([X_train,y_train],axis=1)\n",
    "df_test = pd.concat([X_test, y_test], axis=1)"
   ]
  },
  {
   "cell_type": "code",
   "execution_count": null,
   "metadata": {
    "ExecuteTime": {
     "end_time": "2021-08-24T17:40:28.686775Z",
     "start_time": "2021-08-24T17:40:07.755Z"
    }
   },
   "outputs": [],
   "source": [
    "yhat = knn.predict(X_test)\n",
    "metrics(y_test, yhat)"
   ]
  },
  {
   "cell_type": "code",
   "execution_count": null,
   "metadata": {
    "ExecuteTime": {
     "end_time": "2021-08-24T17:40:28.687775Z",
     "start_time": "2021-08-24T17:40:07.758Z"
    }
   },
   "outputs": [],
   "source": [
    "bootstrap_metrics = list()\n",
    "\n",
    "# Bootstrap parameters\n",
    "n_iterations = 500\n",
    "\n",
    "for i in tqdm(range(n_iterations)):\n",
    "    # Creating training and test set (Out of bag samples)\n",
    "    train = resample(df_train, replace=True, n_samples=len(df_train))\n",
    "    \n",
    "    # Fit the model\n",
    "    model = KNeighborsRegressor(n_neighbors=3)\n",
    "    model.fit(train.iloc[:,:-1], train.iloc[:,-1])\n",
    "    \n",
    "    # Evaluate the model\n",
    "    yhat = model.predict(df_test.iloc[:,:-1])\n",
    "    score = np.sqrt(mean_squared_error(df_test.iloc[:, -1], yhat))\n",
    "    #print(score)\n",
    "    bootstrap_metrics.append(score)\n",
    "    \n",
    "bootstrap_metrics = pd.DataFrame(bootstrap_metrics)\n",
    "bootstrap_metrics"
   ]
  },
  {
   "cell_type": "code",
   "execution_count": null,
   "metadata": {
    "ExecuteTime": {
     "end_time": "2021-08-24T17:40:28.689775Z",
     "start_time": "2021-08-24T17:40:07.762Z"
    }
   },
   "outputs": [],
   "source": [
    "lower_bound = bootstrap_metrics[0].quantile(0.025)\n",
    "upper_bound = bootstrap_metrics[0].quantile(0.975)\n",
    "mean = bootstrap_metrics[0].mean()\n",
    "\n",
    "print('Model RMSE will be in the confidence interval of {1} and {2} with {0}% confidence'.format(alpha*100, np.round(lower_bound, 3), np.round(upper_bound,3)))\n",
    "print('The mean RMSE was {} mm'.format(np.round(mean,3)))"
   ]
  },
  {
   "cell_type": "code",
   "execution_count": null,
   "metadata": {
    "ExecuteTime": {
     "end_time": "2021-08-24T17:40:28.691775Z",
     "start_time": "2021-08-24T17:40:07.766Z"
    }
   },
   "outputs": [],
   "source": [
    "plt.hist(bootstrap_metrics, bins=50, density=True)\n",
    "\n",
    "plt.axvline(x=lower_bound, color='m', linestyle='--',label='2.5% confidence level')\n",
    "plt.axvline(x=mean, color='r', linestyle='--', label='mean value')\n",
    "plt.axvline(x=upper_bound, color='m', linestyle='--',label='97.5% confidence level')\n",
    "\n",
    "plt.show()"
   ]
  }
 ],
 "metadata": {
  "colab": {
   "collapsed_sections": [
    "WEIz2lLMqU4n"
   ],
   "name": "Artigo_IrregV5_Pires.ipynb",
   "provenance": []
  },
  "interpreter": {
   "hash": "18e03f19e2eea32137bb6b7634899948883c996f0eeacfc3548045b6b15590e6"
  },
  "kernelspec": {
   "display_name": "Python 3",
   "language": "python",
   "name": "python3"
  },
  "language_info": {
   "codemirror_mode": {
    "name": "ipython",
    "version": 3
   },
   "file_extension": ".py",
   "mimetype": "text/x-python",
   "name": "python",
   "nbconvert_exporter": "python",
   "pygments_lexer": "ipython3",
   "version": "3.8.8"
  },
  "latex_envs": {
   "LaTeX_envs_menu_present": true,
   "autoclose": false,
   "autocomplete": true,
   "bibliofile": "biblio.bib",
   "cite_by": "apalike",
   "current_citInitial": 1,
   "eqLabelWithNumbers": true,
   "eqNumInitial": 1,
   "hotkeys": {
    "equation": "Ctrl-E",
    "itemize": "Ctrl-I"
   },
   "labels_anchors": false,
   "latex_user_defs": false,
   "report_style_numbering": false,
   "user_envs_cfg": false
  },
  "toc": {
   "base_numbering": 1,
   "nav_menu": {},
   "number_sections": true,
   "sideBar": true,
   "skip_h1_title": false,
   "title_cell": "Table of Contents",
   "title_sidebar": "Contents",
   "toc_cell": false,
   "toc_position": {
    "height": "calc(100% - 180px)",
    "left": "10px",
    "top": "150px",
    "width": "383.984px"
   },
   "toc_section_display": true,
   "toc_window_display": false
  },
  "varInspector": {
   "cols": {
    "lenName": 16,
    "lenType": 16,
    "lenVar": 40
   },
   "kernels_config": {
    "python": {
     "delete_cmd_postfix": "",
     "delete_cmd_prefix": "del ",
     "library": "var_list.py",
     "varRefreshCmd": "print(var_dic_list())"
    },
    "r": {
     "delete_cmd_postfix": ") ",
     "delete_cmd_prefix": "rm(",
     "library": "var_list.r",
     "varRefreshCmd": "cat(var_dic_list()) "
    }
   },
   "oldHeight": 309.391,
   "position": {
    "height": "540.391px",
    "left": "1006.39px",
    "right": "20px",
    "top": "85px",
    "width": "800px"
   },
   "types_to_exclude": [
    "module",
    "function",
    "builtin_function_or_method",
    "instance",
    "_Feature"
   ],
   "varInspector_section_display": "block",
   "window_display": false
  }
 },
 "nbformat": 4,
 "nbformat_minor": 4
}
